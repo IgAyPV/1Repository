{
  "nbformat": 4,
  "nbformat_minor": 0,
  "metadata": {
    "colab": {
      "name": "Practice_7_KM-01_.ipynb",
      "provenance": [],
      "collapsed_sections": []
    },
    "kernelspec": {
      "name": "python3",
      "display_name": "Python 3.7.9 64-bit",
      "metadata": {
        "interpreter": {
          "hash": "2bd088406c06a75776ceb672c497f3e6ddbda4fc21076adce135d8ccfd6d92a4"
        }
      }
    }
  },
  "cells": [
    {
      "cell_type": "markdown",
      "metadata": {
        "id": "FMqboNwO4rVs"
      },
      "source": [
        "# **Курс \"Програмування на мові Python\"**\n",
        "\n",
        "##### Викладачі:\n",
        "##### Борисенко Павло Борисович\n",
        "##### Щьоголєв Максим Олегович\n"
      ]
    },
    {
      "cell_type": "markdown",
      "metadata": {
        "id": "A2T6MigL5Z06"
      },
      "source": [
        "## **Практичне зайняття №8**\n",
        "\n",
        "### Тема: \"Робота з функціями. Локальні та глобальні змінні\""
      ]
    },
    {
      "cell_type": "markdown",
      "metadata": {
        "id": "cfCdgK2zXm7e"
      },
      "source": [
        "### **Завдання 1 (3 бали)**\n",
        "\n",
        "**Підрахувати визначник матриці, використовуючи правило перестановок.**\n",
        "\n",
        "Функція random_matrix() призначена для створення квадратної матриці випадкових чисел. Її змінювати непотрібно.\n",
        "\n",
        "Приклад використання методу permutations() для створення списку перестановок також подається у комірці з кодом.\n",
        "\n",
        "1) Створити 3 функції: функцію створення списку перестановок, функцію підрахунку добутків та функцію підрахунку загальної суми.\n",
        "\n",
        "2) Кожна функція має супроводжуватись рядком документації, що буде коротко описувати її призначення.\n",
        "\n",
        "3) Розмірність квадратної матриці має вводитись користувачем з клавіатури. Підрахунки виконувати лише в тому разі, якщо користувач введе ціле додатне число.\n",
        "\n",
        "4) Загальний результат повинен підраховуватись за допомогою композиції функцій.\n",
        "\n",
        "За бажання можна перевірити правильність роботи програми за допомогою функції np.linalg.det(a)."
      ]
    },
    {
      "cell_type": "code",
      "metadata": {
        "id": "ifNX2M7LXm7f"
      },
      "source": [
        "import itertools\n",
        "import numpy as np\n",
        "\n",
        "\n",
        "def random_matrix(long):\n",
        "    \"\"\"\n",
        "    The function generates long x long array of integers\n",
        "    between 0 and 10.\n",
        "    \"\"\"\n",
        "    matrix = np.random.randint(10, size=(long, long))\n",
        "    print(matrix)\n",
        "    return matrix\n",
        "\n",
        "\n",
        "def list_permutations(long):\n",
        "    \"\"\"\n",
        "    This function generates permutations for index in the new string\n",
        "    \"\"\"\n",
        "    t = np.arange(long)\n",
        "    t = list(itertools.permutations(t, long))\n",
        "    return t\n",
        "\n",
        "\n",
        "def product_count(matrix, list_permutation, long):\n",
        "    \"\"\"\n",
        "    This function multiplies the elements of the matrix\n",
        "    \"\"\"\n",
        "    k = []\n",
        "    for y in list_permutation:\n",
        "        count = 0\n",
        "        for j in range(len(y)):\n",
        "            for i in range(j+1, len(y)):\n",
        "                if y[j] > y[i]:\n",
        "                    count += 1\n",
        "        if count % 2 == 0:\n",
        "            sign = 1\n",
        "        else:\n",
        "            sign = -1\n",
        "        for j in range(long):\n",
        "            sign *= matrix[j][y[j]]\n",
        "        k.append(sign)\n",
        "    return k\n",
        "\n",
        "\n",
        "def summary(prod_count):\n",
        "    b = 0\n",
        "    for i in range(len(prod_count)):\n",
        "        b = b + prod_count[i]\n",
        "    return b\n",
        "\n",
        "\n",
        "while True:\n",
        "    try:\n",
        "        dim = int(input(\"Enter the number of numbers you plan to use less than 10:\"))\n",
        "    except:\n",
        "        print(\"An incorrect type of the variable k was entered.\")\n",
        "    r = summary(product_count(random_matrix(dim), list_permutations(dim), dim))\n",
        "    print(r)\n",
        "    print(\"If you want to exit, enter 'exit', and if you want to continue, enter anything\")\n",
        "    a = input()\n",
        "    if a == 'exit':\n",
        "        break\n"
      ],
      "execution_count": 1,
      "outputs": [
        {
          "output_type": "stream",
          "name": "stdout",
          "text": [
            "[[8 7 1 8 2]\n [2 0 5 6 5]\n [1 9 2 9 9]\n [9 3 4 3 7]\n [5 4 1 3 8]]\n[[8 7 1 8 2]\n [2 0 5 6 5]\n [1 9 2 9 9]\n [9 3 4 3 7]\n [5 4 1 3 8]]\n8817.999999999998\n8818\nIf you want to exit, enter 'exit', and if you want to continue, enter anything\n"
          ]
        }
      ]
    },
    {
      "cell_type": "code",
      "execution_count": null,
      "metadata": {},
      "outputs": [],
      "source": []
    }
  ]
}