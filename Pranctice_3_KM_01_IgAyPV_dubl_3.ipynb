{
  "nbformat": 4,
  "nbformat_minor": 0,
  "metadata": {
    "colab": {
      "name": "Pranctice_3_KM-01_<name>.ipynb",
      "provenance": [],
      "collapsed_sections": []
    },
    "kernelspec": {
      "name": "python3",
      "display_name": "Python 3"
    }
  },
  "cells": [
    {
      "cell_type": "markdown",
      "metadata": {
        "id": "1bRxWHr5e8kt"
      },
      "source": [
        "# **Курс \"Програмування на мові Python\"**\n",
        "\n",
        "##### Викладачі:\n",
        "##### Борисенко Павло Борисович\n",
        "##### Щьоголєв Максим Олегович\n",
        "\n",
        "## **Практичне зайняття №3**\n",
        "\n",
        "### Тема: \"Перші програми на Python. Введення та виведення даних\""
      ]
    },
    {
      "cell_type": "markdown",
      "metadata": {
        "id": "M7jjwxAvfKa2"
      },
      "source": [
        "### **Завдання 1 (1,5 бали)**\n",
        "\n",
        "**Написати програму введення та виведення даних про одержувача листа (посилки) за стандартами Укрпошти.**\n",
        "\n",
        "1. Усі запити на введення даних повинні супроводжуватись відповідними підказками-поясненнями (бажано англійською мовою).\n",
        "\n",
        "2. Дані мають виводитись так, як показано нижче (з урахуванням кількості рядків та послідовності даних у кожному з них).\n",
        "\n",
        "3. Дані, виділені жирним шрифтом, повинні вводитись із клавіатури. Всього має бути 9 окремих команд введення даних\n",
        "\n",
        "4. Назви змінних повинні бути інформативними та оформленими відповідно до правил іменування змінних\n",
        "\n",
        "5. Додати 2 коментарі, що вказують на блоки введення та виведення даних.\n",
        "\n",
        "***Формат виведення даних:***\n",
        "\n",
        "(1) **Lucas** (2) **Diallo**\n",
        "\n",
        "(3) **+3221234567**\n",
        "\n",
        "Rue (4) **Longue** (5) **3**, ap. (6) **5**, (7) **Bruxelles**\n",
        "\n",
        "(8) **1020**\n",
        "\n",
        "(9) **Belgium**"
      ]
    },
    {
      "cell_type": "code",
      "metadata": {
        "id": "hEJG5C3_fJk9",
        "tags": []
      },
      "source": [
        "# Введення даних\n",
        "first_name = str(input(\"Enter a name: \"))\n",
        "surname = str(input(\"Enter a surname: \"))\n",
        "phone = int(input(\"Enter a phone number: +\"))\n",
        "rue = str(input(\"Enter a street name: \"))\n",
        "house = int(input(\"Enter a building number: \"))\n",
        "apartment = int(input(\"Enter an apartment number: \"))\n",
        "town = str(input(\"Enter a the name of the city or region: \"))\n",
        "index = int(input(\"Enter a city or region index: \"))\n",
        "country = str(input(\"Enter a name of the country: \"))\n",
        "# Виведення даних\n",
        "print(first_name,\" \",surname)\n",
        "print(\"+\",phone)\n",
        "print(\"Rue \",rue,\" \",house,\", ap.\",apartment,\", \",town)\n",
        "print(index)\n",
        "print(country)"
      ],
      "execution_count": 4,
      "outputs": []
    },
    {
      "cell_type": "markdown",
      "metadata": {
        "id": "4n4p_pz7gFKM"
      },
      "source": [
        "### **Завдання 2 (1,5 бали)**\n",
        "\n",
        "Таблиця містить магнітуду землетрусів за шкалою Ріхтера та дескриптори, що їй відповідають.\n",
        "\n",
        "Магнітуда | Дескриптор\n",
        "--- | ---\n",
        "Менше, ніж 2 | Micro\n",
        "Від 2 до менше ніж 3 | Very minor\n",
        "Від 3 до менше ніж 4 | Minor\n",
        "Від 4 до менше ніж 5 | Light\n",
        "Від 5 до менше ніж 6 | Moderate\n",
        "Від 6 до менше ніж 7 | Strong\n",
        "Від 7 до менше ніж 8 | Major\n",
        "Від 8 до менше ніж 10 | Great\n",
        "10 та більше | Meteoric\n",
        "\n",
        "Напишіть програму, яка буде зчитувати магнітуду, введену користувачем, та виводити відповідний дескриптор як частину змістовного повідомлення. Наприклад, якщо користувач вводить 5.5, ваша програма повинна показати, що землетрус з такою магнітудою є помірним (moderate)."
      ]
    },
    {
      "cell_type": "code",
      "metadata": {
        "id": "Nv66Jkkpf-sI"
      },
      "source": [
        "magnitude = float(input(\"Введіть магнітуду землетрусу за шкалою Ріхтера: \"))\n",
        "if 0 < magnitude < 2:\n",
        "    print('Micro')\n",
        "elif 2 < magnitude < 3:\n",
        "    print('Very minor')\n",
        "elif 3 < magnitude < 4:\n",
        "    print('Minor')\n",
        "elif 4 < magnitude < 5:\n",
        "    print('Light')\n",
        "else:\n",
        "    if 5 < magnitude < 6:\n",
        "        print('Moderate')\n",
        "    elif 6 < magnitude < 7:\n",
        "        print('Strong')\n",
        "    elif 7 < magnitude < 8:\n",
        "        print('Major')\n",
        "    elif 8 < magnitude < 10:\n",
        "        print('Great')\n",
        "    else:\n",
        "        if magnitude > 10:\n",
        "            print('Meteoric')\n",
        "        else:\n",
        "            print('Invalid syntax')"
      ],
      "execution_count": 5,
      "outputs": []
    },
    {
      "cell_type": "markdown",
      "metadata": {
        "id": "b593txPwotgN"
      },
      "source": [
        "### **Завдання 3 (бонусне, 1 бал)**\n",
        "\n",
        "Часто говорять, що один календарний рік еквівалентний 7 рокам для собаки. Однак таке просте перетворення не враховує того, що собаки досягають \"повноліття\" приблизно у 2 роки. Тому деякі люди вважать, що краще рахувати кожен з перших двох календарних років як 10,5 років для собаки, а потім рахувати кожен наступний календарний рік як 4 роки для собаки.\n",
        "\n",
        "Напишіть програму, яка конвертує календарні роки у \"собачі\", як було показано в попередньому абзаці. Переконайтесь, що ваша програма працює правильно, конвертуючи перші два календарні роки та всі подальші. Ваша програма також повинна виводити повідомлення про помилку, якщо користувач введе від'ємне число."
      ]
    },
    {
      "cell_type": "code",
      "metadata": {
        "id": "PA_E_H0Zosu0"
      },
      "source": [
        "while True:\n",
        "    try:\n",
        "        n = int(input(\"Введіть ціле значення років n, яке ≥1: \"))\n",
        "        while n < 1:\n",
        "            print(\"Ви ввели некоретне значення\")\n",
        "            n = int(input(\"Введіть ціле значення років n, яке ≥1: \"))\n",
        "    except:\n",
        "        print(\"Ви ввели неправильно\")\n",
        "    v = n // 4\n",
        "    if v <= 2:\n",
        "        g = v * 9.5 + n\n",
        "    else:\n",
        "        g = 2 * 9.5 + (v - 2) * 3 + n\n",
        "    print('Людські роки: ',n)\n",
        "    print('Собачі роки: ',g)\n",
        "    print(\"Якщо ви хочете вийти введіть exit, а якщо продовжити введіть будь-що\")\n",
        "    a = input()\n",
        "    if a == 'exit':\n",
        "        break"
      ],
      "execution_count": 6,
      "outputs": []
    }
  ]
}